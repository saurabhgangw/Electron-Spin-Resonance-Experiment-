{
  "nbformat": 4,
  "nbformat_minor": 0,
  "metadata": {
    "colab": {
      "provenance": [],
      "authorship_tag": "ABX9TyMor8DXoBsVlGHBb5FjdwbR",
      "include_colab_link": true
    },
    "kernelspec": {
      "name": "python3",
      "display_name": "Python 3"
    },
    "language_info": {
      "name": "python"
    }
  },
  "cells": [
    {
      "cell_type": "markdown",
      "metadata": {
        "id": "view-in-github",
        "colab_type": "text"
      },
      "source": [
        "<a href=\"https://colab.research.google.com/github/saurabhgangw/Electron-Spin-Resonance-Experiment-/blob/master/Untitled84.ipynb\" target=\"_parent\"><img src=\"https://colab.research.google.com/assets/colab-badge.svg\" alt=\"Open In Colab\"/></a>"
      ]
    },
    {
      "cell_type": "code",
      "execution_count": null,
      "metadata": {
        "id": "LND1HS4zNCzi"
      },
      "outputs": [],
      "source": [
        "import numpy as np\n",
        "import matplotlib.pyplot as plt\n",
        "\n",
        "# Constants for water (can modify for other liquids)\n",
        "D = 2.5e-5  # Vapor diffusion coefficient (m^2/s for water at 25°C)\n",
        "rho = 1000  # Density of water (kg/m^3)\n",
        "L_v = 2.26e6  # Latent heat of vaporization (J/kg)\n",
        "T_inf = 298  # Ambient temperature (K)\n",
        "c_s = 0.023  # Saturation vapor concentration (kg/m^3, for water)\n",
        "c_inf = 0  # Vapor concentration far from the droplet (kg/m^3)\n",
        "\n",
        "# Contact line radius evolution (starting values)\n",
        "R0 = 1e-3  # Initial contact line radius (1 mm)\n",
        "V0 = 1e-6  # Initial droplet volume (1 microliter)\n",
        "theta0 = 90  # Initial contact angle in degrees\n",
        "\n",
        "# Time parameters\n",
        "t_max = 3600  # Total simulation time (s)\n",
        "dt = 1  # Time step (s)\n",
        "time = np.arange(0, t_max, dt)\n",
        "\n",
        "# Function for F(theta)\n",
        "def F_theta(theta):\n",
        "    theta_rad = np.radians(theta)\n",
        "    return (np.sin(theta_rad)) / (1 + np.cos(theta_rad))\n",
        "\n",
        "# Define the temperature difference function based on T_s and T_a\n",
        "def temp_difference_evaporation(T_s, T_a):\n",
        "    delta_T = T_s - T_a  # Temperature difference\n",
        "    return delta_T / 30  # Scaling factor for evaporation rate\n",
        "\n",
        "# Initial values\n",
        "R = R0  # Contact line radius (m)\n",
        "V = V0  # Droplet volume (m^3)\n",
        "theta = theta0  # Contact angle (degrees)\n",
        "V_history = []  # Store volume history\n",
        "\n",
        "# Define temperatures (surface and ambient)\n",
        "T_s = np.linspace(298, 338, len(time))  # Simulate surface temperature rising from 25°C to 65°C\n",
        "T_a = 298  # Ambient temperature remains constant at 25°C\n",
        "\n",
        "# Loop over time to simulate evaporation\n",
        "for t in range(len(time)):\n",
        "    # Calculate current evaporation rate\n",
        "    delta_c = c_s - c_inf  # Concentration difference\n",
        "    F = F_theta(theta)  # Function of contact angle\n",
        "\n",
        "    # Modify evaporation rate based on temperature difference (scaling it)\n",
        "    evaporation_scaling = temp_difference_evaporation(T_s[t], T_a)\n",
        "    dm_dt = -2 * np.pi * D * R * delta_c * F * evaporation_scaling  # Mass loss rate\n",
        "\n",
        "    # Update volume (assuming density rho is constant)\n",
        "    dV_dt = dm_dt / rho\n",
        "    V += dV_dt * dt  # Update volume\n",
        "\n",
        "    # Store the history of volume\n",
        "    V_history.append(V)\n",
        "\n",
        "    # Stop the simulation if the volume reaches zero\n",
        "    if V <= 0:\n",
        "        break\n",
        "\n",
        "# Convert history to numpy array for plotting\n",
        "V_history = np.array(V_history)\n",
        "\n",
        "# Plot the results\n",
        "plt.plot(time[:len(V_history)], V_history, label='Droplet Volume')\n",
        "plt.xlabel('Time (s)')\n",
        "plt.ylabel('Droplet Volume (m^3)')\n",
        "plt.title('Temperature-Dependent Evaporation of Sessile Droplet')\n",
        "plt.legend()\n",
        "plt.grid(True)\n",
        "plt.show()"
      ]
    }
  ]
}