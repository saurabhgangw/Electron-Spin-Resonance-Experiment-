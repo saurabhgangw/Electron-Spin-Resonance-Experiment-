{
  "nbformat": 4,
  "nbformat_minor": 0,
  "metadata": {
    "colab": {
      "provenance": [],
      "authorship_tag": "ABX9TyMGXPLKaoG3L3taTQs90NdF",
      "include_colab_link": true
    },
    "kernelspec": {
      "name": "python3",
      "display_name": "Python 3"
    },
    "language_info": {
      "name": "python"
    }
  },
  "cells": [
    {
      "cell_type": "markdown",
      "metadata": {
        "id": "view-in-github",
        "colab_type": "text"
      },
      "source": [
        "<a href=\"https://colab.research.google.com/github/saurabhgangw/Electron-Spin-Resonance-Experiment-/blob/master/Untitled84.ipynb\" target=\"_parent\"><img src=\"https://colab.research.google.com/assets/colab-badge.svg\" alt=\"Open In Colab\"/></a>"
      ]
    },
    {
      "cell_type": "code",
      "execution_count": 1,
      "metadata": {
        "colab": {
          "base_uri": "https://localhost:8080/",
          "height": 211
        },
        "id": "LND1HS4zNCzi",
        "outputId": "4ff613e3-61d6-4172-b84d-2519c6aa8f08"
      },
      "outputs": [
        {
          "output_type": "error",
          "ename": "error",
          "evalue": "OpenCV(4.11.0) /io/opencv/modules/imgproc/src/color.cpp:199: error: (-215:Assertion failed) !_src.empty() in function 'cvtColor'\n",
          "traceback": [
            "\u001b[0;31m---------------------------------------------------------------------------\u001b[0m",
            "\u001b[0;31merror\u001b[0m                                     Traceback (most recent call last)",
            "\u001b[0;32m<ipython-input-1-1631574378>\u001b[0m in \u001b[0;36m<cell line: 0>\u001b[0;34m()\u001b[0m\n\u001b[1;32m     10\u001b[0m \u001b[0;34m\u001b[0m\u001b[0m\n\u001b[1;32m     11\u001b[0m \u001b[0;31m# Convert to grayscale\u001b[0m\u001b[0;34m\u001b[0m\u001b[0;34m\u001b[0m\u001b[0m\n\u001b[0;32m---> 12\u001b[0;31m \u001b[0mgray_image\u001b[0m \u001b[0;34m=\u001b[0m \u001b[0mcv2\u001b[0m\u001b[0;34m.\u001b[0m\u001b[0mcvtColor\u001b[0m\u001b[0;34m(\u001b[0m\u001b[0mimage\u001b[0m\u001b[0;34m,\u001b[0m \u001b[0mcv2\u001b[0m\u001b[0;34m.\u001b[0m\u001b[0mCOLOR_BGR2GRAY\u001b[0m\u001b[0;34m)\u001b[0m\u001b[0;34m\u001b[0m\u001b[0;34m\u001b[0m\u001b[0m\n\u001b[0m\u001b[1;32m     13\u001b[0m \u001b[0;34m\u001b[0m\u001b[0m\n\u001b[1;32m     14\u001b[0m \u001b[0;31m# Apply a binary threshold to get a binary image\u001b[0m\u001b[0;34m\u001b[0m\u001b[0;34m\u001b[0m\u001b[0m\n",
            "\u001b[0;31merror\u001b[0m: OpenCV(4.11.0) /io/opencv/modules/imgproc/src/color.cpp:199: error: (-215:Assertion failed) !_src.empty() in function 'cvtColor'\n"
          ]
        }
      ],
      "source": [
        "import cv2\n",
        "import numpy as np\n",
        "from skimage import measure, color\n",
        "from scipy import ndimage as ndi\n",
        "import matplotlib.pyplot as plt\n",
        "\n",
        "# Load the image\n",
        "image_path = \"/content/image.jpg\"  # Replace with your image path\n",
        "image = cv2.imread(image_path)\n",
        "\n",
        "# Convert to grayscale\n",
        "gray_image = cv2.cvtColor(image, cv2.COLOR_BGR2GRAY)\n",
        "\n",
        "# Apply a binary threshold to get a binary image\n",
        "_, binary_image = cv2.threshold(gray_image, 128, 255, cv2.THRESH_BINARY_INV + cv2.THRESH_OTSU)\n",
        "\n",
        "# Remove small white regions (noise) and fill small black holes\n",
        "cleaned_image = ndi.binary_fill_holes(binary_image).astype(int)\n",
        "\n",
        "# Label connected components\n",
        "labeled_image, num_features = ndi.label(cleaned_image)\n",
        "\n",
        "# Calculate properties of labeled regions (particles)\n",
        "properties = measure.regionprops(labeled_image)\n",
        "\n",
        "# Initialize lists to hold results\n",
        "areas = []\n",
        "equivalent_diameters = []\n",
        "circularities = []\n",
        "sphericities = []\n",
        "\n",
        "# Calculate area, equivalent diameter, circularity, and sphericity for each particle\n",
        "for prop in properties:\n",
        "    area = prop.area\n",
        "    perimeter = prop.perimeter if prop.perimeter != 0 else 1  # Avoid division by zero\n",
        "    equivalent_diameter = prop.equivalent_diameter\n",
        "    circularity = 4 * np.pi * area / (perimeter ** 2)\n",
        "    sphericity = (np.pi ** (1/3) * (6 * area) ** (2/3)) / perimeter\n",
        "\n",
        "    areas.append(area)\n",
        "    equivalent_diameters.append(equivalent_diameter)\n",
        "    circularities.append(circularity)\n",
        "    sphericities.append(sphericity)\n",
        "\n",
        "# Display the results\n",
        "particle_count = len(areas)\n",
        "print(f\"Number of particles: {particle_count}\")\n",
        "print(f\"Average Equivalent Diameter: {np.mean(equivalent_diameters):.2f}\")\n",
        "print(f\"Average Circularity: {np.mean(circularities):.2f}\")\n",
        "print(f\"Average Sphericity: {np.mean(sphericities):.2f}\")\n",
        "\n",
        "# Visualize the labeled particles\n",
        "plt.figure(figsize=(10, 10))\n",
        "plt.imshow(color.label2rgb(labeled_image, image=gray_image, bg_label=0), cmap='gray')\n",
        "plt.title(f\"Labeled Particles: {particle_count}\")\n",
        "plt.axis ( 'off' )\n",
        "plt.show()\n",
        "\n",
        "# Calculate the total area of the image\n",
        "total_area = binary_image.size\n",
        "\n",
        "# Calculate the area occupied by particles (foreground)\n",
        "occupied_area = np.sum(labeled_image > 0)\n",
        "\n",
        "# Calculate the void area (background)\n",
        "void_area = total_area - occupied_area\n",
        "\n",
        "# Calculate porosity\n",
        "porosity = void_area / total_area\n",
        "\n",
        "print(f\"Porosity: {porosity:.4f}\")"
      ]
    }
  ]
}