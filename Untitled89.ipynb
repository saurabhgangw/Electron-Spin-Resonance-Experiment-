{
  "nbformat": 4,
  "nbformat_minor": 0,
  "metadata": {
    "colab": {
      "provenance": [],
      "authorship_tag": "ABX9TyNENceE0twEbV4Ii2mLxYOb",
      "include_colab_link": true
    },
    "kernelspec": {
      "name": "python3",
      "display_name": "Python 3"
    },
    "language_info": {
      "name": "python"
    }
  },
  "cells": [
    {
      "cell_type": "markdown",
      "metadata": {
        "id": "view-in-github",
        "colab_type": "text"
      },
      "source": [
        "<a href=\"https://colab.research.google.com/github/saurabhgangw/Electron-Spin-Resonance-Experiment-/blob/master/Untitled89.ipynb\" target=\"_parent\"><img src=\"https://colab.research.google.com/assets/colab-badge.svg\" alt=\"Open In Colab\"/></a>"
      ]
    },
    {
      "cell_type": "code",
      "execution_count": null,
      "metadata": {
        "id": "VwIyGq9smxWY"
      },
      "outputs": [],
      "source": [
        "import numpy as np\n",
        "import matplotlib.pyplot as plt\n",
        "\n",
        "# Constants\n",
        "NUM_PARTICLES = 100\n",
        "BOX_SIZE = 1.0\n",
        "CRITICAL_DENSITY = 0.64\n",
        "RADIUS = (3 * CRITICAL_DENSITY / (4 * np.pi * NUM_PARTICLES))**(1/3)\n",
        "\n",
        "# Periodic boundary distance calculation\n",
        "def periodic_distance(pos1, pos2, box_size):\n",
        "    delta = pos1 - pos2\n",
        "    delta = delta - np.round(delta / box_size) * box_size\n",
        "    return np.linalg.norm(delta)\n",
        "\n",
        "# Generate initial random particle positions\n",
        "def generate_initial_positions(num_particles, box_size):\n",
        "    positions = np.random.rand(num_particles, 3) * box_size\n",
        "    return positions\n",
        "\n",
        "# Check for overlaps\n",
        "def check_overlaps(positions, radius, box_size):\n",
        "    num_particles = positions.shape[0]\n",
        "    for i in range(num_particles):\n",
        "        for j in range(i + 1, num_particles):\n",
        "            dist = periodic_distance(positions[i], positions[j], box_size)\n",
        "            if dist < 2 * radius:\n",
        "                return True\n",
        "    return False\n",
        "\n",
        "# Monte Carlo jamming optimization\n",
        "def monte_carlo_jamming(num_particles, radius, box_size, max_attempts=10000):\n",
        "    positions = generate_initial_positions(num_particles, box_size)\n",
        "    for attempt in range(max_attempts):\n",
        "        for i in range(num_particles):\n",
        "            # Random perturbation\n",
        "            perturbation = (np.random.rand(3) - 0.5) * 0.1 * box_size\n",
        "            new_position = (positions[i] + perturbation) % box_size\n",
        "            old_position = positions[i].copy()\n",
        "            positions[i] = new_position\n",
        "\n",
        "            # Check for overlaps\n",
        "            if check_overlaps(positions, radius, box_size):\n",
        "                # Undo perturbation if overlap occurs\n",
        "                positions[i] = old_position\n",
        "\n",
        "        # Compute density\n",
        "        density = num_particles * (4/3) * np.pi * radius**3 / box_size**3\n",
        "        if density >= CRITICAL_DENSITY:\n",
        "            print(f\"Jamming achieved at density: {density:.4f}\")\n",
        "            return positions, density\n",
        "\n",
        "    print(f\"Failed to achieve jamming density in {max_attempts} attempts.\")\n",
        "    density = num_particles * (4/3) * np.pi * radius**3 / box_size**3\n",
        "    return positions, density\n",
        "\n",
        "# Visualization\n",
        "def visualize_particles(positions, radius, box_size):\n",
        "    fig = plt.figure(figsize=(10, 10))\n",
        "    ax = fig.add_subplot(111, projection='3d')\n",
        "    for pos in positions:\n",
        "        ax.scatter(pos[0], pos[1], pos[2], s=100, alpha=0.6)\n",
        "    ax.set_xlim([0, box_size])\n",
        "    ax.set_ylim([0, box_size])\n",
        "    ax.set_zlim([0, box_size])\n",
        "    ax.set_title(f\"Particle Arrangement in 3D Box (N={NUM_PARTICLES})\")\n",
        "    plt.show()\n",
        "\n",
        "# Main simulation\n",
        "positions, achieved_density = monte_carlo_jamming(NUM_PARTICLES, RADIUS, BOX_SIZE)\n",
        "print(f\"Achieved density: {achieved_density:.4f}\")\n",
        "\n",
        "# Visualization\n",
        "visualize_particles(positions, RADIUS, BOX_SIZE)"
      ]
    }
  ]
}